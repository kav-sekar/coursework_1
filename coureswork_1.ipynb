{
 "cells": [
  {
   "cell_type": "markdown",
   "id": "5086e94e-7958-41aa-81ac-8791c95a382c",
   "metadata": {},
   "source": [
    "# Hypothesis Testing"
   ]
  },
  {
   "cell_type": "code",
   "execution_count": 16,
   "id": "38c1c1ba-1d2d-42cd-99e3-d5df7e17e5cf",
   "metadata": {},
   "outputs": [],
   "source": [
    "# import relevant packages\n",
    "import numpy as np\n",
    "import scipy.stats as sps\n",
    "import pandas as pd\n",
    "import matplotlib.pyplot as plt\n",
    "import os\n",
    "\n",
    "%matplotlib inline\n",
    "\n",
    "# filename of data:\n",
    "data_filename = 'coursework_1_data_2019.csv'"
   ]
  },
  {
   "cell_type": "code",
   "execution_count": 27,
   "id": "fcea7dab-68f5-4527-bc05-0bd504a4fa05",
   "metadata": {},
   "outputs": [
    {
     "data": {
      "text/html": [
       "<div>\n",
       "<style scoped>\n",
       "    .dataframe tbody tr th:only-of-type {\n",
       "        vertical-align: middle;\n",
       "    }\n",
       "\n",
       "    .dataframe tbody tr th {\n",
       "        vertical-align: top;\n",
       "    }\n",
       "\n",
       "    .dataframe thead th {\n",
       "        text-align: right;\n",
       "    }\n",
       "</style>\n",
       "<table border=\"1\" class=\"dataframe\">\n",
       "  <thead>\n",
       "    <tr style=\"text-align: right;\">\n",
       "      <th></th>\n",
       "      <th>2013_cases_total</th>\n",
       "      <th>2018_cases_total</th>\n",
       "      <th>2013_pop_total</th>\n",
       "      <th>2018_pop_total</th>\n",
       "    </tr>\n",
       "  </thead>\n",
       "  <tbody>\n",
       "    <tr>\n",
       "      <th>0</th>\n",
       "      <td>619</td>\n",
       "      <td>763</td>\n",
       "      <td>179030</td>\n",
       "      <td>181779</td>\n",
       "    </tr>\n",
       "    <tr>\n",
       "      <th>1</th>\n",
       "      <td>594</td>\n",
       "      <td>773</td>\n",
       "      <td>344062</td>\n",
       "      <td>355955</td>\n",
       "    </tr>\n",
       "    <tr>\n",
       "      <th>2</th>\n",
       "      <td>451</td>\n",
       "      <td>527</td>\n",
       "      <td>244010</td>\n",
       "      <td>257883</td>\n",
       "    </tr>\n",
       "    <tr>\n",
       "      <th>3</th>\n",
       "      <td>421</td>\n",
       "      <td>494</td>\n",
       "      <td>172975</td>\n",
       "      <td>189334</td>\n",
       "    </tr>\n",
       "    <tr>\n",
       "      <th>4</th>\n",
       "      <td>327</td>\n",
       "      <td>367</td>\n",
       "      <td>164807</td>\n",
       "      <td>170463</td>\n",
       "    </tr>\n",
       "  </tbody>\n",
       "</table>\n",
       "</div>"
      ],
      "text/plain": [
       "   2013_cases_total  2018_cases_total  2013_pop_total  2018_pop_total\n",
       "0               619               763          179030          181779\n",
       "1               594               773          344062          355955\n",
       "2               451               527          244010          257883\n",
       "3               421               494          172975          189334\n",
       "4               327               367          164807          170463"
      ]
     },
     "execution_count": 27,
     "metadata": {},
     "output_type": "execute_result"
    }
   ],
   "source": [
    "# Get the data for per-capita of condition X:\n",
    "data = pd.read_csv(data_filename)[['2013_cases_total','2018_cases_total','2013_pop_total','2018_pop_total']]\n",
    "\n",
    "# Looking at the first few rows:\n",
    "data.head()"
   ]
  },
  {
   "cell_type": "code",
   "execution_count": 34,
   "id": "1de91751-975a-4e8b-9882-c48308ce9263",
   "metadata": {},
   "outputs": [
    {
     "data": {
      "text/html": [
       "<div>\n",
       "<style scoped>\n",
       "    .dataframe tbody tr th:only-of-type {\n",
       "        vertical-align: middle;\n",
       "    }\n",
       "\n",
       "    .dataframe tbody tr th {\n",
       "        vertical-align: top;\n",
       "    }\n",
       "\n",
       "    .dataframe thead th {\n",
       "        text-align: right;\n",
       "    }\n",
       "</style>\n",
       "<table border=\"1\" class=\"dataframe\">\n",
       "  <thead>\n",
       "    <tr style=\"text-align: right;\">\n",
       "      <th></th>\n",
       "      <th>2013_cases_total</th>\n",
       "      <th>2018_cases_total</th>\n",
       "      <th>2013_pop_total</th>\n",
       "      <th>2018_pop_total</th>\n",
       "      <th>2013_per_capita_cases</th>\n",
       "      <th>2018_per_capita_cases</th>\n",
       "    </tr>\n",
       "  </thead>\n",
       "  <tbody>\n",
       "    <tr>\n",
       "      <th>count</th>\n",
       "      <td>152.0000</td>\n",
       "      <td>152.0000</td>\n",
       "      <td>152.0000</td>\n",
       "      <td>152.0000</td>\n",
       "      <td>152.0000</td>\n",
       "      <td>152.0000</td>\n",
       "    </tr>\n",
       "    <tr>\n",
       "      <th>mean</th>\n",
       "      <td>1,159.5132</td>\n",
       "      <td>1,278.6053</td>\n",
       "      <td>354,282.0921</td>\n",
       "      <td>368,289.4803</td>\n",
       "      <td>0.0032</td>\n",
       "      <td>0.0034</td>\n",
       "    </tr>\n",
       "    <tr>\n",
       "      <th>std</th>\n",
       "      <td>997.2310</td>\n",
       "      <td>1,069.6920</td>\n",
       "      <td>278,874.4681</td>\n",
       "      <td>294,596.8620</td>\n",
       "      <td>0.0014</td>\n",
       "      <td>0.0014</td>\n",
       "    </tr>\n",
       "    <tr>\n",
       "      <th>min</th>\n",
       "      <td>1.0000</td>\n",
       "      <td>4.0000</td>\n",
       "      <td>2,385.0000</td>\n",
       "      <td>2,440.0000</td>\n",
       "      <td>0.0004</td>\n",
       "      <td>0.0010</td>\n",
       "    </tr>\n",
       "    <tr>\n",
       "      <th>25%</th>\n",
       "      <td>531.7500</td>\n",
       "      <td>592.5000</td>\n",
       "      <td>188,067.2500</td>\n",
       "      <td>193,428.5000</td>\n",
       "      <td>0.0023</td>\n",
       "      <td>0.0025</td>\n",
       "    </tr>\n",
       "    <tr>\n",
       "      <th>50%</th>\n",
       "      <td>794.5000</td>\n",
       "      <td>873.5000</td>\n",
       "      <td>257,771.5000</td>\n",
       "      <td>264,203.5000</td>\n",
       "      <td>0.0030</td>\n",
       "      <td>0.0032</td>\n",
       "    </tr>\n",
       "    <tr>\n",
       "      <th>75%</th>\n",
       "      <td>1,470.2500</td>\n",
       "      <td>1,641.5000</td>\n",
       "      <td>402,499.0000</td>\n",
       "      <td>409,428.5000</td>\n",
       "      <td>0.0038</td>\n",
       "      <td>0.0041</td>\n",
       "    </tr>\n",
       "    <tr>\n",
       "      <th>max</th>\n",
       "      <td>5,582.0000</td>\n",
       "      <td>5,745.0000</td>\n",
       "      <td>1,528,154.0000</td>\n",
       "      <td>1,623,387.0000</td>\n",
       "      <td>0.0085</td>\n",
       "      <td>0.0087</td>\n",
       "    </tr>\n",
       "  </tbody>\n",
       "</table>\n",
       "</div>"
      ],
      "text/plain": [
       "                              2013_cases_total  \\\n",
       "count                                 152.0000   \n",
       "mean                                1,159.5132   \n",
       "std                                   997.2310   \n",
       "min                                     1.0000   \n",
       "25%                                   531.7500   \n",
       "50%                                   794.5000   \n",
       "75%                                 1,470.2500   \n",
       "max                                 5,582.0000   \n",
       "\n",
       "                              2018_cases_total  \\\n",
       "count                                 152.0000   \n",
       "mean                                1,278.6053   \n",
       "std                                 1,069.6920   \n",
       "min                                     4.0000   \n",
       "25%                                   592.5000   \n",
       "50%                                   873.5000   \n",
       "75%                                 1,641.5000   \n",
       "max                                 5,745.0000   \n",
       "\n",
       "                                2013_pop_total  \\\n",
       "count                                 152.0000   \n",
       "mean                              354,282.0921   \n",
       "std                               278,874.4681   \n",
       "min                                 2,385.0000   \n",
       "25%                               188,067.2500   \n",
       "50%                               257,771.5000   \n",
       "75%                               402,499.0000   \n",
       "max                             1,528,154.0000   \n",
       "\n",
       "                                2018_pop_total  \\\n",
       "count                                 152.0000   \n",
       "mean                              368,289.4803   \n",
       "std                               294,596.8620   \n",
       "min                                 2,440.0000   \n",
       "25%                               193,428.5000   \n",
       "50%                               264,203.5000   \n",
       "75%                               409,428.5000   \n",
       "max                             1,623,387.0000   \n",
       "\n",
       "                         2013_per_capita_cases  \\\n",
       "count                                 152.0000   \n",
       "mean                                    0.0032   \n",
       "std                                     0.0014   \n",
       "min                                     0.0004   \n",
       "25%                                     0.0023   \n",
       "50%                                     0.0030   \n",
       "75%                                     0.0038   \n",
       "max                                     0.0085   \n",
       "\n",
       "                         2018_per_capita_cases  \n",
       "count                                 152.0000  \n",
       "mean                                    0.0034  \n",
       "std                                     0.0014  \n",
       "min                                     0.0010  \n",
       "25%                                     0.0025  \n",
       "50%                                     0.0032  \n",
       "75%                                     0.0041  \n",
       "max                                     0.0087  "
      ]
     },
     "execution_count": 34,
     "metadata": {},
     "output_type": "execute_result"
    }
   ],
   "source": [
    "# Saving 2013 and 2018 separately:\n",
    "data1 = data['2013_cases_total']/data['2013_pop_total']\n",
    "data2 = data['2018_cases_total']/data['2018_pop_total']\n",
    "\n",
    "data['2013_per_capita_cases'] = data1\n",
    "data['2018_per_capita_cases'] = data2\n",
    "# Saving some useful values\n",
    "\n",
    "min1 = data1.min()\n",
    "min2 = data2.min()\n",
    "\n",
    "max1 = data1.max()\n",
    "max2 = data2.max()\n",
    "\n",
    "mean1 = data1.mean()\n",
    "mean2 = data2.mean()\n",
    "\n",
    "std1 = data1.std()\n",
    "std2 = data2.std()\n",
    "\n",
    "n1 = len(data1)\n",
    "n2 = len(data2)\n",
    "\n",
    "# And print some summary information:\n",
    "data.describe()"
   ]
  },
  {
   "cell_type": "code",
   "execution_count": 35,
   "id": "45edab00-fc04-40bc-b645-5091574a446e",
   "metadata": {},
   "outputs": [
    {
     "data": {
      "text/plain": [
       "<AxesSubplot:>"
      ]
     },
     "execution_count": 35,
     "metadata": {},
     "output_type": "execute_result"
    },
    {
     "data": {
      "image/png": "[encoded data removed]",
      "text/plain": [
       "<Figure size 432x288 with 1 Axes>"
      ]
     },
     "metadata": {
      "needs_background": "light"
     },
     "output_type": "display_data"
    },
    {
     "data": {
      "image/png": "[encoded data removed]",
      "text/plain": [
       "<Figure size 432x288 with 1 Axes>"
      ]
     },
     "metadata": {
      "needs_background": "light"
     },
     "output_type": "display_data"
    }
   ],
   "source": [
    "# Visualise the distribution of the data (as histograms)\n",
    "\n",
    "# Set common x-limits for the histograms:\n",
    "hist_min = (min(min1,min2)) - 0.001\n",
    "hist_max = (max(max1,max2)) + 0.001\n",
    "x_range = [hist_min, hist_max]\n",
    "\n",
    "# Set common y-limits for the histograms:\n",
    "y_range = [0.000,500.000]\n",
    "\n",
    "# Choose an appropriate number of columns for the histogram:\n",
    "n_cols = hist_max - hist_min\n",
    "\n",
    "# Now create the 2 plots:\n",
    "\n",
    "plt.figure(1)\n",
    "plt.ylim(y_range)\n",
    "data['2013_per_capita_cases'].hist(range=x_range, bins=25, density=True)\n",
    "##plt.savefig('2008_2013_pct_change_per_capita_ND.png')\n",
    "\n",
    "plt.figure(2)\n",
    "plt.ylim(y_range)\n",
    "data['2018_per_capita_cases'].hist(range=x_range, bins=25, density=True)\n",
    "##plt.savefig('2013_2018_pct_change_per_capita_ND.png')\n"
   ]
  },
  {
   "cell_type": "code",
   "execution_count": 55,
   "id": "3ab6ed33-2e1e-4bef-b749-506fada177a5",
   "metadata": {},
   "outputs": [],
   "source": [
    "# Test 1 - Mean Comparison Test\n",
    "# Step 1\n",
    "# H0: Mean of population 1 =  Mean of population 1 \n",
    "#.....(Investments do not have any impact change of X)\n",
    "# H1: Mean of population 1 <> Mean of population 1 \n",
    "#.....(Investments do have an impact on change of X)"
   ]
  },
  {
   "cell_type": "code",
   "execution_count": 56,
   "id": "48d774c1-6afb-46e8-ba01-fa4e644c397b",
   "metadata": {},
   "outputs": [],
   "source": [
    "# Step 2\n",
    "# Set significance level:\n",
    "\n",
    "alpha = 0.05"
   ]
  },
  {
   "cell_type": "code",
   "execution_count": 57,
   "id": "99a16e77-260d-4a5f-88b7-ab8999ae5e71",
   "metadata": {},
   "outputs": [
    {
     "name": "stdout",
     "output_type": "stream",
     "text": [
      "std_ratio = 1.0027664481461027\n",
      "Can assume equal population standard deviations.\n"
     ]
    }
   ],
   "source": [
    "# Step 3-4\n",
    "# Using the built-in scipy.stats function (ttest_ind) that does steps 3 and 4.\n",
    "# We can get to know whether we can assume that the samples are drawn...\n",
    "# ... from populations with the same standard deviation or not.\n",
    "\n",
    "std_ratio = std1/std2\n",
    "print(\"std_ratio =\", std_ratio)\n",
    "\n",
    "if std_ratio > 0.5 and std_ratio < 2:\n",
    "    print(\"Can assume equal population standard deviations.\")\n",
    "    equal_stds = True\n",
    "else:\n",
    "    print(\"Cannot assume equal population standard deviations.\")\n",
    "    equal_stds = False"
   ]
  },
  {
   "cell_type": "code",
   "execution_count": 58,
   "id": "c3c8bf10-3241-468b-bf90-f7afba607f35",
   "metadata": {},
   "outputs": [
    {
     "name": "stdout",
     "output_type": "stream",
     "text": [
      "p-value = 0.13802291646844433\n"
     ]
    }
   ],
   "source": [
    "# Calculate the test statistic and the p-value:\n",
    "\n",
    "test_stat, p_value = sps.ttest_ind(data1, data2, equal_var = equal_stds)\n",
    "print(\"p-value =\", p_value)"
   ]
  },
  {
   "cell_type": "code",
   "execution_count": 59,
   "id": "f8707b01-e673-4216-af82-13d89c107bd4",
   "metadata": {},
   "outputs": [
    {
     "name": "stdout",
     "output_type": "stream",
     "text": [
      "p-value >= significance threshold.\n",
      "No significant evidence to reject H0.\n",
      "Assume samples are drawn from populations with the same mean.(Investments do not have any impact on change of X)\n"
     ]
    }
   ],
   "source": [
    "# Step 5\n",
    "# Reach a conclusion:\n",
    "\n",
    "if p_value < alpha:\n",
    "    print(\"p-value < significance threshold.\")\n",
    "    print(\"Reject H0. Accept H1.\")\n",
    "    print(\"Conclude that samples are drawn from populations with different means.(Investments do have an impact on change of X)\")\n",
    "elif p_value >= alpha:\n",
    "    print(\"p-value >= significance threshold.\")\n",
    "    print(\"No significant evidence to reject H0.\")\n",
    "    print(\"Assume samples are drawn from populations with the same mean.(Investments do not have any impact on change of X)\")"
   ]
  },
  {
   "cell_type": "code",
   "execution_count": 60,
   "id": "6f6b7699-cbaf-41e2-b845-d66e29bfdca1",
   "metadata": {},
   "outputs": [],
   "source": [
    "# Test 2 - KS Distribution Test\n",
    "# Step 1\n",
    "# H0: Sample 1 and Sample 2 are drawn from identical distributions.(Investments do not have any impact on change of X)\n",
    "# H1: Sample 1 and Sample 2 are not drawn from identical distributions.(Investments do have an impact on change of X)"
   ]
  },
  {
   "cell_type": "code",
   "execution_count": 61,
   "id": "fcff2334-49b8-4ba3-b0db-222e34ddd21c",
   "metadata": {},
   "outputs": [],
   "source": [
    "# Step 2\n",
    "# Set significance level:\n",
    "\n",
    "alpha = 0.05"
   ]
  },
  {
   "cell_type": "code",
   "execution_count": 62,
   "id": "46cfeb0d-4a0f-4c2c-b85a-11bd6a609946",
   "metadata": {},
   "outputs": [
    {
     "name": "stdout",
     "output_type": "stream",
     "text": [
      "KS stat = 0.13157894736842105\n",
      "p-value = 0.1440340045079191\n"
     ]
    }
   ],
   "source": [
    "# Step 3-4\n",
    "# Using the built-in scipy.stats function (ks_2samp) that does steps 3 and 4:\n",
    "\n",
    "KS_stat, p_value = sps.ks_2samp(data1,data2)\n",
    "\n",
    "# Compare with the KS stat we calculated earlier:\n",
    "\n",
    "print(\"KS stat =\", KS_stat)\n",
    "print(\"p-value =\", p_value)"
   ]
  },
  {
   "cell_type": "code",
   "execution_count": 63,
   "id": "732cc9aa-0ec5-44df-840d-5383470984b6",
   "metadata": {},
   "outputs": [
    {
     "name": "stdout",
     "output_type": "stream",
     "text": [
      "p-value >= significance threshold.\n",
      "No significant evidence to reject H0.\n",
      "Assume samples are drawn from populations with the same distribution.(Investments do not have any impact on change of X)\n"
     ]
    }
   ],
   "source": [
    "# Step 5\n",
    "# Reach a conclusion:\n",
    "\n",
    "if p_value < alpha:\n",
    "    print(\"p-value < significance threshold.\")\n",
    "    print(\"Reject H0. Accept H1.\")\n",
    "    print(\"Conclude that samples are drawn from populations with different distributions.(Investments do have an impact on change of X)\")\n",
    "elif p_value >= alpha:\n",
    "    print(\"p-value >= significance threshold.\")\n",
    "    print(\"No significant evidence to reject H0.\")\n",
    "    print(\"Assume samples are drawn from populations with the same distribution.(Investments do not have any impact on change of X)\")"
   ]
  }
 ],
 "metadata": {
  "kernelspec": {
   "display_name": "Python 3 (ipykernel)",
   "language": "python",
   "name": "python3"
  },
  "language_info": {
   "codemirror_mode": {
    "name": "ipython",
    "version": 3
   },
   "file_extension": ".py",
   "mimetype": "text/x-python",
   "name": "python",
   "nbconvert_exporter": "python",
   "pygments_lexer": "ipython3",
   "version": "3.9.6"
  }
 },
 "nbformat": 4,
 "nbformat_minor": 5
}
